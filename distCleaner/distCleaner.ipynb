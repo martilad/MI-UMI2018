{
 "cells": [
  {
   "cell_type": "code",
   "execution_count": 124,
   "metadata": {},
   "outputs": [
    {
     "data": {
      "image/png": "[encoded data removed]",
      "text/plain": [
       "<Figure size 1800x1800 with 1 Axes>"
      ]
     },
     "metadata": {
      "needs_background": "light"
     },
     "output_type": "display_data"
    },
    {
     "name": "stdout",
     "output_type": "stream",
     "text": [
      "940.0\n",
      "940.0\n"
     ]
    }
   ],
   "source": [
    "import sys\n",
    "import time\n",
    "import math\n",
    "import copy\n",
    "import numpy as np\n",
    "import scipy as sc\n",
    "import matplotlib.pyplot as plt\n",
    "import matplotlib.cm as cm\n",
    "from scipy import sparse\n",
    "from scipy.sparse import csgraph\n",
    "from scipy.spatial import distance\n",
    "from shapely.geometry import Point, LineString\n",
    "from shapely.geometry.polygon import Polygon\n",
    "from scipy.spatial import distance\n",
    "\n",
    "from PIL import Image, ImageDraw\n",
    "\n",
    "#space\n",
    "start = (10,10)\n",
    "end = (10, 950)\n",
    "polygons = [[(250, 600), (260, 700), (200, 750), (190, 650)], \n",
    "            [(250, 250), (100, 500), (480, 380), (550, 100), (320, 150)], \n",
    "            [(300, 550), (380, 700), (590, 900), (650, 650), (610, 510)],\n",
    "            [(750, 600), (780, 900), (800, 800), (850, 650), (800, 550)],\n",
    "            [(650, 550), (900, 480), (800, 200), (610, 250)]\n",
    "           ]\n",
    "\n",
    "# visualization of space\n",
    "space = np.zeros((1000,1000), dtype=int)\n",
    "for polygon in polygons:\n",
    "    img = Image.new('L', (1000, 1000), 0)\n",
    "    ImageDraw.Draw(img).polygon(polygon, outline=1, fill=1)\n",
    "    space = space + np.array(img)\n",
    "fig = plt.figure(figsize=(25, 25))\n",
    "ax1 = fig.add_subplot(121)\n",
    "# Bilinear interpolation - this will look blurry\n",
    "ax1.imshow(space, interpolation='nearest')\n",
    "plt.show()\n",
    "\n",
    "def get_visible_points(actPoint, points, polygons):\n",
    "    p = []\n",
    "    for i in points:\n",
    "        kill = 0\n",
    "        for j in polygons:\n",
    "            if j.crosses(LineString([actPoint, i])):\n",
    "                kill = 1\n",
    "        if kill == 0:\n",
    "            p.append(i)\n",
    "    return p\n",
    "            \n",
    "    \n",
    "act_point = start\n",
    "_polygons = [Polygon(x) for x in polygons]\n",
    "_points = {}\n",
    "\n",
    "_points[start] = 0\n",
    "_points[end] = 1\n",
    "cnt = 2\n",
    "for x in polygons:\n",
    "    for y in x:\n",
    "        _points[y] = cnt\n",
    "        cnt += 1\n",
    "        \n",
    "distances = np.full((cnt,cnt), dtype=int, fill_value = sys.maxsize)\n",
    "\n",
    "for pt in _points:\n",
    "    for j in get_visible_points(pt, _points, _polygons):\n",
    "        distances[_points[j]][_points[pt]] = distance.euclidean(pt, j)\n",
    "print(sc.sparse.csgraph.floyd_warshall(distances)[0][1])\n",
    "print(sc.sparse.csgraph.floyd_warshall(distances)[1][0])\n",
    "\n",
    "\n",
    "\n"
   ]
  },
  {
   "cell_type": "code",
   "execution_count": null,
   "metadata": {},
   "outputs": [],
   "source": []
  }
 ],
 "metadata": {
  "kernelspec": {
   "display_name": "Python 3",
   "language": "python",
   "name": "python3"
  },
  "language_info": {
   "codemirror_mode": {
    "name": "ipython",
    "version": 3
   },
   "file_extension": ".py",
   "mimetype": "text/x-python",
   "name": "python",
   "nbconvert_exporter": "python",
   "pygments_lexer": "ipython3",
   "version": "3.5.3"
  }
 },
 "nbformat": 4,
 "nbformat_minor": 2
}
