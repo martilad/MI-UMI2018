{
 "cells": [
  {
   "cell_type": "code",
   "execution_count": 63,
   "metadata": {},
   "outputs": [
    {
     "data": {
      "text/plain": [
       "array([[0, 0, 1, 0, 1],\n",
       "       [0, 1, 0, 0, 1],\n",
       "       [1, 0, 1, 1, 0],\n",
       "       [0, 0, 0, 0, 1],\n",
       "       [0, 1, 1, 0, 0]])"
      ]
     },
     "metadata": {},
     "output_type": "display_data"
    },
    {
     "data": {
      "text/plain": [
       "array([[0, 2, 4, 2, 5, 2, 4, 5, 7, 5, 6],\n",
       "       [2, 0, 2, 2, 3, 4, 2, 3, 5, 5, 4],\n",
       "       [4, 2, 0, 4, 1, 6, 4, 3, 3, 7, 6],\n",
       "       [2, 2, 4, 0, 3, 2, 2, 3, 5, 3, 4],\n",
       "       [5, 3, 1, 3, 0, 5, 3, 2, 2, 6, 5],\n",
       "       [2, 4, 6, 2, 5, 0, 2, 3, 5, 3, 4],\n",
       "       [4, 2, 4, 2, 3, 2, 0, 1, 3, 3, 2],\n",
       "       [5, 3, 3, 3, 2, 3, 1, 0, 2, 4, 3],\n",
       "       [7, 5, 3, 5, 2, 5, 3, 2, 0, 4, 3],\n",
       "       [5, 5, 7, 3, 6, 3, 3, 4, 4, 0, 1],\n",
       "       [6, 4, 6, 4, 5, 4, 2, 3, 3, 1, 0]])"
      ]
     },
     "metadata": {},
     "output_type": "display_data"
    },
    {
     "name": "stdout",
     "output_type": "stream",
     "text": [
      "Best road lenght:  17\n",
      "[0,0] -> [2,0] -> [1,1] -> [0,2] -> [0,4] -> [1,4] -> [3,4] -> [2,3] -> [2,2] -> [4,2] -> [4,1]\n"
     ]
    }
   ],
   "source": [
    "import sys\n",
    "import numpy as np\n",
    "import scipy as sc\n",
    "from scipy import sparse\n",
    "from scipy.sparse import csgraph\n",
    "from scipy.spatial import distance\n",
    "\n",
    "x = 5\n",
    "y = 5\n",
    "pocatek = (0,0,0)\n",
    "matrixDensity = 0.4\n",
    "points = [pocatek]\n",
    "cnt = 1\n",
    "\n",
    "def gen_random_matrix(x, y, density):\n",
    "    n = int(x * y * matrixDensity)\n",
    "    space = np.zeros((x*y), dtype=int)\n",
    "    rngX = np.random.choice(range(x*y), n, replace=False)\n",
    "    for i in rngX:\n",
    "        space[i] = 1\n",
    "    space = space.reshape(x, y)\n",
    "    return space\n",
    "\n",
    "def count_distance_matrix_for_waste(space, points, cnt):\n",
    "    distanceMatrix = np.zeros(1, dtype=int)\n",
    "    for i in range(len(space)):\n",
    "        for j in range(len(space[i])):\n",
    "            if space[i][j] == 1:\n",
    "                distanceMatrix_t = np.zeros((len(distanceMatrix)+1,len(distanceMatrix)+1), dtype=int)       \n",
    "                distanceMatrix_t[:-1, :-1] = distanceMatrix\n",
    "                distanceMatrix = distanceMatrix_t\n",
    "                pointNumber = len(points)\n",
    "                for point in range(len(points)):\n",
    "                    distanceMatrix[pointNumber][point] = distance.cityblock(points[point][:-1], (i, j))\n",
    "                    distanceMatrix[point][pointNumber] = distance.cityblock(points[point][:-1], (i, j))\n",
    "                points.append((i, j, cnt))\n",
    "                cnt += 1\n",
    "    return distanceMatrix\n",
    "    \n",
    "class BestRoad:\n",
    "    best = sys.maxsize\n",
    "    road = []\n",
    "       \n",
    "    \n",
    "    \n",
    "def find_shortest_way(dMatrix, actPoint, leftPoints, roadLen, road):\n",
    "    if BestRoad.best <= roadLen: return\n",
    "    if len(leftPoints)==0:\n",
    "        BestRoad.best = roadLen\n",
    "        BestRoad.road = road\n",
    "        return \n",
    "    for i in leftPoints:\n",
    "        \n",
    "        find_shortest_way(dMatrix, i, [x for x in leftPoints if x != i], \n",
    "                          roadLen+dMatrix[actPoint[2]][i[2]], road + [i])\n",
    "        \n",
    "\n",
    "    \n",
    "\n",
    "space = gen_random_matrix(x, y, matrixDensity)\n",
    "dMatrix = count_distance_matrix_for_waste(space, points, cnt)\n",
    "display(space)\n",
    "display(dMatrix)\n",
    "\n",
    "shortest = find_shortest_way(dMatrix, pocatek, points[1:], 0, [points[0]])\n",
    "\n",
    "print(\"Best road lenght: \", BestRoad.best)\n",
    "print(\" -> \".join([\"[{},{}]\".format(x[0], x[1]) for x in BestRoad.road]))\n",
    "\n",
    "\n",
    "\n",
    "def go_for_nearest(dMatrix, actPoint, leftPoints, roadLen, road, done):\n",
    "    \n",
    "    if BestRoad.best <= roadLen: return\n",
    "    if len(leftPoints)==0:\n",
    "        BestRoad.best = roadLen\n",
    "        BestRoad.road = road\n",
    "        return\n",
    "    \n",
    "    sortedTo = [(i, j) for i,j in enumerate(dMatrix[actPoint[2]]) if i not in done]\n",
    "    sorted(sortedTo, key=lambda x: x[-1])\n",
    "    # TODO: for nearest\n",
    "    go_for_nearest(dMatrix, i, [x for x in leftPoints if x != i], \n",
    "                          roadLen+dMatrix[actPoint[2]][i[2]], road + [i])\n",
    "        \n",
    "        \n",
    "BestRoad.best = sys.maxsize\n",
    "BestRoad.road = []\n",
    "\n"
   ]
  },
  {
   "cell_type": "code",
   "execution_count": null,
   "metadata": {},
   "outputs": [],
   "source": []
  },
  {
   "cell_type": "code",
   "execution_count": null,
   "metadata": {},
   "outputs": [],
   "source": []
  }
 ],
 "metadata": {
  "kernelspec": {
   "display_name": "Python 3",
   "language": "python",
   "name": "python3"
  },
  "language_info": {
   "codemirror_mode": {
    "name": "ipython",
    "version": 3
   },
   "file_extension": ".py",
   "mimetype": "text/x-python",
   "name": "python",
   "nbconvert_exporter": "python",
   "pygments_lexer": "ipython3",
   "version": "3.5.3"
  }
 },
 "nbformat": 4,
 "nbformat_minor": 2
}
