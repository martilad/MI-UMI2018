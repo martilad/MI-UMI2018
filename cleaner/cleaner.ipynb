{
 "cells": [
  {
   "cell_type": "code",
   "execution_count": 65,
   "metadata": {},
   "outputs": [
    {
     "data": {
      "text/plain": [
       "array([[0, 0, 0, 0, 1],\n",
       "       [0, 0, 0, 0, 0],\n",
       "       [0, 0, 0, 0, 0],\n",
       "       [1, 0, 0, 0, 0],\n",
       "       [0, 0, 0, 0, 0]])"
      ]
     },
     "metadata": {},
     "output_type": "display_data"
    },
    {
     "data": {
      "text/plain": [
       "array([[0, 4, 3],\n",
       "       [4, 0, 7],\n",
       "       [3, 7, 0]])"
      ]
     },
     "metadata": {},
     "output_type": "display_data"
    }
   ],
   "source": [
    "import numpy as np\n",
    "import scipy as sc\n",
    "from scipy import sparse\n",
    "from scipy.sparse import csgraph\n",
    "from scipy.spatial import distance\n",
    "\n",
    "x = 5\n",
    "y = 5\n",
    "pocatek = (0,0)\n",
    "matrixDensity = 0.1\n",
    "\n",
    "n = int(x * y * matrixDensity)\n",
    "space = np.zeros((x*y), dtype=int)\n",
    "rngX = np.random.choice(range(x*y), n, replace=False)\n",
    "for i in rngX:\n",
    "    space[i] = 1\n",
    "\n",
    "points = [pocatek]\n",
    "distanceMatrix = np.zeros(1, dtype=int)\n",
    "space = space.reshape(x, y)\n",
    "display(space)\n",
    "for i in range(len(space)):\n",
    "    for j in range(len(space[i])):\n",
    "        if space[i][j] == 1:\n",
    "            distanceMatrix_t = np.zeros((len(distanceMatrix)+1,len(distanceMatrix)+1), dtype=int)       \n",
    "            distanceMatrix_t[:-1, :-1] = distanceMatrix\n",
    "            distanceMatrix = distanceMatrix_t\n",
    "            pointNumber = len(points)\n",
    "            for point in range(len(points)):\n",
    "                distanceMatrix[pointNumber][point] = distance.cityblock(points[point], (i, j))\n",
    "                distanceMatrix[point][pointNumber] = distance.cityblock(points[point], (i, j))\n",
    "            points.append((i, j))\n",
    "\n",
    "display(distanceMatrix)\n"
   ]
  },
  {
   "cell_type": "code",
   "execution_count": null,
   "metadata": {},
   "outputs": [],
   "source": []
  },
  {
   "cell_type": "code",
   "execution_count": null,
   "metadata": {},
   "outputs": [],
   "source": []
  },
  {
   "cell_type": "code",
   "execution_count": null,
   "metadata": {},
   "outputs": [],
   "source": []
  },
  {
   "cell_type": "code",
   "execution_count": null,
   "metadata": {},
   "outputs": [],
   "source": []
  }
 ],
 "metadata": {
  "kernelspec": {
   "display_name": "Python 3",
   "language": "python",
   "name": "python3"
  },
  "language_info": {
   "codemirror_mode": {
    "name": "ipython",
    "version": 3
   },
   "file_extension": ".py",
   "mimetype": "text/x-python",
   "name": "python",
   "nbconvert_exporter": "python",
   "pygments_lexer": "ipython3",
   "version": "3.5.3"
  }
 },
 "nbformat": 4,
 "nbformat_minor": 2
}
