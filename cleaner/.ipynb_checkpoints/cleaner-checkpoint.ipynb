{
 "cells": [
  {
   "cell_type": "code",
   "execution_count": 40,
   "metadata": {},
   "outputs": [
    {
     "name": "stdout",
     "output_type": "stream",
     "text": [
      "100\n"
     ]
    },
    {
     "data": {
      "text/plain": [
       "array([ 6,  5,  1, 18,  7, 16, 14, 13, 17, 12,  0, 15,  2,  9,  4,  3, 19,\n",
       "       11,  8, 10])"
      ]
     },
     "execution_count": 40,
     "metadata": {},
     "output_type": "execute_result"
    }
   ],
   "source": [
    "import numpy as np\n",
    "x = 10\n",
    "y = 20\n",
    "matrixDensity = 0.5\n",
    "n = int(x * y * matrixDensity)\n",
    "print(n)\n",
    "space = np.zeros((x*y), dtype=int)\n",
    "rngX = np.random.choice(range(20), 20, replace=False)\n",
    "rngX = np.random.randint(x*y, size=n)\n",
    "for i in rngX:\n",
    "    space[i] = 1\n",
    "\n",
    "\n",
    "\n",
    "\n",
    "space.reshape(x, y)\n",
    "\n"
   ]
  },
  {
   "cell_type": "code",
   "execution_count": null,
   "metadata": {},
   "outputs": [],
   "source": []
  }
 ],
 "metadata": {
  "kernelspec": {
   "display_name": "Python 3",
   "language": "python",
   "name": "python3"
  },
  "language_info": {
   "codemirror_mode": {
    "name": "ipython",
    "version": 3
   },
   "file_extension": ".py",
   "mimetype": "text/x-python",
   "name": "python",
   "nbconvert_exporter": "python",
   "pygments_lexer": "ipython3",
   "version": "3.5.3"
  }
 },
 "nbformat": 4,
 "nbformat_minor": 2
}
